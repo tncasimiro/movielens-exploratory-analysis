{
  "cells": [
    {
      "cell_type": "markdown",
      "metadata": {
        "id": "l_LulNCC8z96"
      },
      "source": [
        "<a rel=\"license\" href=\"https://faculdadesalvadorarena.org.br/\"><img alt=\"FESA\" style=\"border-width:0\" src=\"https://faculdadesalvadorarena.org.br/wp-content/uploads/2022/07/logo_fesa.png\" /></a><br />\n",
        "**FESA - Eletiva II (2025.1)** <br/>\n",
        "\n",
        "Aluno(a): Tainara do Nascimento Casimiro <br/>\n",
        "RA: 082220011 <br/>\n",
        "Engenharia de Computação - 6° Semestre <br/>\n",
        "Data: 10/03/2025 <br/>\n",
        "\n",
        "Eletiva II - Ambientes Inteligentes <br/>\n",
        "Professor: Elias Kento Tomiyama <br/>"
      ]
    },
    {
      "cell_type": "markdown",
      "metadata": {},
      "source": [
        "# Análise dos Dados de Links, Movies, Ratings e Tags"
      ]
    },
    {
      "cell_type": "markdown",
      "metadata": {},
      "source": [
        "## Importando bilioteca"
      ]
    },
    {
      "cell_type": "code",
      "execution_count": 1,
      "metadata": {
        "id": "u3SwNzHVw72g"
      },
      "outputs": [],
      "source": [
        "import pandas as pd"
      ]
    },
    {
      "cell_type": "markdown",
      "metadata": {},
      "source": [
        "## Carregando os Dados"
      ]
    },
    {
      "cell_type": "markdown",
      "metadata": {},
      "source": [
        "### Links"
      ]
    },
    {
      "cell_type": "code",
      "execution_count": 2,
      "metadata": {
        "id": "FYOfHAgTw72h"
      },
      "outputs": [],
      "source": [
        "# Carregando os dados da tabela 'links'\n",
        "df_links = pd.read_csv(r'C:\\Users\\PLAY\\Desktop\\FESA\\EC6\\ELETIVA II (AMBIENTES INTELIGENTES)\\N1 - Tainara do Nascimento Casimiro/movielens-exploratory-analysis/ml-latest-small/links.csv')"
      ]
    },
    {
      "cell_type": "code",
      "execution_count": 3,
      "metadata": {},
      "outputs": [],
      "source": [
        "# Renomeando colunas para melhor compreensão\n",
        "df_links.rename(columns={'movieId': 'ID filme', 'imdbId': 'ID IMDB', 'tmdbId': 'ID TMDB'}, inplace=True)"
      ]
    },
    {
      "cell_type": "code",
      "execution_count": 4,
      "metadata": {},
      "outputs": [
        {
          "name": "stdout",
          "output_type": "stream",
          "text": [
            "   ID filme  ID IMDB  ID TMDB\n",
            "0         1   114709    862.0\n",
            "1         2   113497   8844.0\n",
            "2         3   113228  15602.0\n",
            "3         4   114885  31357.0\n",
            "4         5   113041  11862.0\n"
          ]
        }
      ],
      "source": [
        "# Exibindo as primeiras linhas do dataset\n",
        "print(df_links.head())"
      ]
    },
    {
      "cell_type": "code",
      "execution_count": 5,
      "metadata": {},
      "outputs": [],
      "source": [
        "#Correção da coluna \"ID TMDB\", que contém espaços em valores float nulos e desprezíveis.\n",
        "df_links[\"ID TMDB\"] = df_links[\"ID TMDB\"].fillna(0).astype(int)"
      ]
    },
    {
      "cell_type": "code",
      "execution_count": 6,
      "metadata": {},
      "outputs": [
        {
          "name": "stdout",
          "output_type": "stream",
          "text": [
            "   ID filme  ID IMDB  ID TMDB\n",
            "0         1   114709      862\n",
            "1         2   113497     8844\n",
            "2         3   113228    15602\n",
            "3         4   114885    31357\n",
            "4         5   113041    11862\n"
          ]
        }
      ],
      "source": [
        "# Exibindo as primeiras linhas do dataset, após correção\n",
        "print(df_links.head())"
      ]
    },
    {
      "cell_type": "code",
      "execution_count": 7,
      "metadata": {},
      "outputs": [
        {
          "name": "stdout",
          "output_type": "stream",
          "text": [
            "O dataset possui 9742 exemplos/amostras/linhas e 3 atributos/variáveis/colunas.\n"
          ]
        }
      ],
      "source": [
        "# Exibindo a quantidade de linhas e colunas do dataset\n",
        "print(f'O dataset possui {df_links.shape[0]} exemplos/amostras/linhas e {df_links.shape[1]} atributos/variáveis/colunas.')"
      ]
    },
    {
      "cell_type": "code",
      "execution_count": 8,
      "metadata": {},
      "outputs": [
        {
          "name": "stdout",
          "output_type": "stream",
          "text": [
            "<class 'pandas.core.frame.DataFrame'>\n",
            "RangeIndex: 9742 entries, 0 to 9741\n",
            "Data columns (total 3 columns):\n",
            " #   Column    Non-Null Count  Dtype\n",
            "---  ------    --------------  -----\n",
            " 0   ID filme  9742 non-null   int64\n",
            " 1   ID IMDB   9742 non-null   int64\n",
            " 2   ID TMDB   9742 non-null   int32\n",
            "dtypes: int32(1), int64(2)\n",
            "memory usage: 190.4 KB\n"
          ]
        }
      ],
      "source": [
        "# Exibindo informações gerais do dataset\n",
        "df_links.info()"
      ]
    },
    {
      "cell_type": "code",
      "execution_count": 9,
      "metadata": {},
      "outputs": [
        {
          "data": {
            "application/vnd.microsoft.datawrangler.viewer.v0+json": {
              "columns": [
                {
                  "name": "index",
                  "rawType": "object",
                  "type": "string"
                },
                {
                  "name": "ID filme",
                  "rawType": "float64",
                  "type": "float"
                },
                {
                  "name": "ID IMDB",
                  "rawType": "float64",
                  "type": "float"
                },
                {
                  "name": "ID TMDB",
                  "rawType": "float64",
                  "type": "float"
                }
              ],
              "conversionMethod": "pd.DataFrame",
              "ref": "a46c6a40-46d9-4803-876f-ed61d09b4498",
              "rows": [
                [
                  "count",
                  "9742.0",
                  "9742.0",
                  "9742.0"
                ],
                [
                  "mean",
                  "42200.353623485935",
                  "677183.8981728598",
                  "55116.82539519606"
                ],
                [
                  "std",
                  "52160.49485443833",
                  "1107227.576759764",
                  "93628.35152099364"
                ],
                [
                  "min",
                  "1.0",
                  "417.0",
                  "0.0"
                ],
                [
                  "25%",
                  "3248.25",
                  "95180.75",
                  "9656.75"
                ],
                [
                  "50%",
                  "7300.0",
                  "167260.5",
                  "16497.5"
                ],
                [
                  "75%",
                  "76232.0",
                  "805568.5",
                  "44147.75"
                ],
                [
                  "max",
                  "193609.0",
                  "8391976.0",
                  "525662.0"
                ]
              ],
              "shape": {
                "columns": 3,
                "rows": 8
              }
            },
            "text/html": [
              "<div>\n",
              "<style scoped>\n",
              "    .dataframe tbody tr th:only-of-type {\n",
              "        vertical-align: middle;\n",
              "    }\n",
              "\n",
              "    .dataframe tbody tr th {\n",
              "        vertical-align: top;\n",
              "    }\n",
              "\n",
              "    .dataframe thead th {\n",
              "        text-align: right;\n",
              "    }\n",
              "</style>\n",
              "<table border=\"1\" class=\"dataframe\">\n",
              "  <thead>\n",
              "    <tr style=\"text-align: right;\">\n",
              "      <th></th>\n",
              "      <th>ID filme</th>\n",
              "      <th>ID IMDB</th>\n",
              "      <th>ID TMDB</th>\n",
              "    </tr>\n",
              "  </thead>\n",
              "  <tbody>\n",
              "    <tr>\n",
              "      <th>count</th>\n",
              "      <td>9742.000000</td>\n",
              "      <td>9.742000e+03</td>\n",
              "      <td>9742.000000</td>\n",
              "    </tr>\n",
              "    <tr>\n",
              "      <th>mean</th>\n",
              "      <td>42200.353623</td>\n",
              "      <td>6.771839e+05</td>\n",
              "      <td>55116.825395</td>\n",
              "    </tr>\n",
              "    <tr>\n",
              "      <th>std</th>\n",
              "      <td>52160.494854</td>\n",
              "      <td>1.107228e+06</td>\n",
              "      <td>93628.351521</td>\n",
              "    </tr>\n",
              "    <tr>\n",
              "      <th>min</th>\n",
              "      <td>1.000000</td>\n",
              "      <td>4.170000e+02</td>\n",
              "      <td>0.000000</td>\n",
              "    </tr>\n",
              "    <tr>\n",
              "      <th>25%</th>\n",
              "      <td>3248.250000</td>\n",
              "      <td>9.518075e+04</td>\n",
              "      <td>9656.750000</td>\n",
              "    </tr>\n",
              "    <tr>\n",
              "      <th>50%</th>\n",
              "      <td>7300.000000</td>\n",
              "      <td>1.672605e+05</td>\n",
              "      <td>16497.500000</td>\n",
              "    </tr>\n",
              "    <tr>\n",
              "      <th>75%</th>\n",
              "      <td>76232.000000</td>\n",
              "      <td>8.055685e+05</td>\n",
              "      <td>44147.750000</td>\n",
              "    </tr>\n",
              "    <tr>\n",
              "      <th>max</th>\n",
              "      <td>193609.000000</td>\n",
              "      <td>8.391976e+06</td>\n",
              "      <td>525662.000000</td>\n",
              "    </tr>\n",
              "  </tbody>\n",
              "</table>\n",
              "</div>"
            ],
            "text/plain": [
              "            ID filme       ID IMDB        ID TMDB\n",
              "count    9742.000000  9.742000e+03    9742.000000\n",
              "mean    42200.353623  6.771839e+05   55116.825395\n",
              "std     52160.494854  1.107228e+06   93628.351521\n",
              "min         1.000000  4.170000e+02       0.000000\n",
              "25%      3248.250000  9.518075e+04    9656.750000\n",
              "50%      7300.000000  1.672605e+05   16497.500000\n",
              "75%     76232.000000  8.055685e+05   44147.750000\n",
              "max    193609.000000  8.391976e+06  525662.000000"
            ]
          },
          "execution_count": 9,
          "metadata": {},
          "output_type": "execute_result"
        }
      ],
      "source": [
        "# Exibindo estatísticas descritivas do dataset\n",
        "df_links.describe()"
      ]
    },
    {
      "cell_type": "markdown",
      "metadata": {
        "id": "UTMSKSepw72i"
      },
      "source": [
        "### Movies"
      ]
    },
    {
      "cell_type": "code",
      "execution_count": 10,
      "metadata": {},
      "outputs": [],
      "source": [
        "# Carregando os dados da tabela 'movies'\n",
        "df_movies = pd.read_csv(r'C:\\Users\\PLAY\\Desktop\\FESA\\EC6\\ELETIVA II (AMBIENTES INTELIGENTES)\\N1 - Tainara do Nascimento Casimiro/movielens-exploratory-analysis/ml-latest-small/movies.csv')"
      ]
    },
    {
      "cell_type": "code",
      "execution_count": 11,
      "metadata": {},
      "outputs": [],
      "source": [
        "# Renomeando colunas\n",
        "df_movies.rename(columns={'movieId': 'ID filme', 'title': 'Titulo', 'genres': 'Generos'}, inplace=True)"
      ]
    },
    {
      "cell_type": "code",
      "execution_count": 12,
      "metadata": {},
      "outputs": [],
      "source": [
        "# Ajustando o formato da coluna de gêneros\n",
        "df_movies['Generos'] = df_movies['Generos'].str.replace('|', ' | ')"
      ]
    },
    {
      "cell_type": "code",
      "execution_count": 13,
      "metadata": {},
      "outputs": [
        {
          "name": "stdout",
          "output_type": "stream",
          "text": [
            "   ID filme                              Titulo  \\\n",
            "0         1                    Toy Story (1995)   \n",
            "1         2                      Jumanji (1995)   \n",
            "2         3             Grumpier Old Men (1995)   \n",
            "3         4            Waiting to Exhale (1995)   \n",
            "4         5  Father of the Bride Part II (1995)   \n",
            "\n",
            "                                             Generos  \n",
            "0  Adventure | Animation | Children | Comedy | Fa...  \n",
            "1                     Adventure | Children | Fantasy  \n",
            "2                                   Comedy | Romance  \n",
            "3                           Comedy | Drama | Romance  \n",
            "4                                             Comedy  \n"
          ]
        }
      ],
      "source": [
        "# Exibindo as primeiras linhas do dataset\n",
        "print(df_movies.head())"
      ]
    },
    {
      "cell_type": "code",
      "execution_count": 14,
      "metadata": {},
      "outputs": [
        {
          "name": "stdout",
          "output_type": "stream",
          "text": [
            "O dataset possui 9742 exemplos/amostras/linhas e 3 atributos/variáveis/colunas.\n"
          ]
        }
      ],
      "source": [
        "# Exibindo a quantidade de linhas e colunas do dataset\n",
        "print(f'O dataset possui {df_movies.shape[0]} exemplos/amostras/linhas e {df_movies.shape[1]} atributos/variáveis/colunas.')"
      ]
    },
    {
      "cell_type": "code",
      "execution_count": 15,
      "metadata": {},
      "outputs": [
        {
          "name": "stdout",
          "output_type": "stream",
          "text": [
            "<class 'pandas.core.frame.DataFrame'>\n",
            "RangeIndex: 9742 entries, 0 to 9741\n",
            "Data columns (total 3 columns):\n",
            " #   Column    Non-Null Count  Dtype \n",
            "---  ------    --------------  ----- \n",
            " 0   ID filme  9742 non-null   int64 \n",
            " 1   Titulo    9742 non-null   object\n",
            " 2   Generos   9742 non-null   object\n",
            "dtypes: int64(1), object(2)\n",
            "memory usage: 228.5+ KB\n"
          ]
        }
      ],
      "source": [
        "# Exibindo informações gerais do dataset\n",
        "df_movies.info()"
      ]
    },
    {
      "cell_type": "code",
      "execution_count": 16,
      "metadata": {},
      "outputs": [
        {
          "data": {
            "application/vnd.microsoft.datawrangler.viewer.v0+json": {
              "columns": [
                {
                  "name": "index",
                  "rawType": "object",
                  "type": "string"
                },
                {
                  "name": "ID filme",
                  "rawType": "float64",
                  "type": "float"
                }
              ],
              "conversionMethod": "pd.DataFrame",
              "ref": "968bfcf7-d30d-4d46-8f8a-c49d7cffebb2",
              "rows": [
                [
                  "count",
                  "9742.0"
                ],
                [
                  "mean",
                  "42200.353623485935"
                ],
                [
                  "std",
                  "52160.49485443833"
                ],
                [
                  "min",
                  "1.0"
                ],
                [
                  "25%",
                  "3248.25"
                ],
                [
                  "50%",
                  "7300.0"
                ],
                [
                  "75%",
                  "76232.0"
                ],
                [
                  "max",
                  "193609.0"
                ]
              ],
              "shape": {
                "columns": 1,
                "rows": 8
              }
            },
            "text/html": [
              "<div>\n",
              "<style scoped>\n",
              "    .dataframe tbody tr th:only-of-type {\n",
              "        vertical-align: middle;\n",
              "    }\n",
              "\n",
              "    .dataframe tbody tr th {\n",
              "        vertical-align: top;\n",
              "    }\n",
              "\n",
              "    .dataframe thead th {\n",
              "        text-align: right;\n",
              "    }\n",
              "</style>\n",
              "<table border=\"1\" class=\"dataframe\">\n",
              "  <thead>\n",
              "    <tr style=\"text-align: right;\">\n",
              "      <th></th>\n",
              "      <th>ID filme</th>\n",
              "    </tr>\n",
              "  </thead>\n",
              "  <tbody>\n",
              "    <tr>\n",
              "      <th>count</th>\n",
              "      <td>9742.000000</td>\n",
              "    </tr>\n",
              "    <tr>\n",
              "      <th>mean</th>\n",
              "      <td>42200.353623</td>\n",
              "    </tr>\n",
              "    <tr>\n",
              "      <th>std</th>\n",
              "      <td>52160.494854</td>\n",
              "    </tr>\n",
              "    <tr>\n",
              "      <th>min</th>\n",
              "      <td>1.000000</td>\n",
              "    </tr>\n",
              "    <tr>\n",
              "      <th>25%</th>\n",
              "      <td>3248.250000</td>\n",
              "    </tr>\n",
              "    <tr>\n",
              "      <th>50%</th>\n",
              "      <td>7300.000000</td>\n",
              "    </tr>\n",
              "    <tr>\n",
              "      <th>75%</th>\n",
              "      <td>76232.000000</td>\n",
              "    </tr>\n",
              "    <tr>\n",
              "      <th>max</th>\n",
              "      <td>193609.000000</td>\n",
              "    </tr>\n",
              "  </tbody>\n",
              "</table>\n",
              "</div>"
            ],
            "text/plain": [
              "            ID filme\n",
              "count    9742.000000\n",
              "mean    42200.353623\n",
              "std     52160.494854\n",
              "min         1.000000\n",
              "25%      3248.250000\n",
              "50%      7300.000000\n",
              "75%     76232.000000\n",
              "max    193609.000000"
            ]
          },
          "execution_count": 16,
          "metadata": {},
          "output_type": "execute_result"
        }
      ],
      "source": [
        "# Exibindo estatísticas descritivas do dataset\n",
        "df_movies.describe()"
      ]
    },
    {
      "cell_type": "markdown",
      "metadata": {},
      "source": [
        "### Ratings"
      ]
    },
    {
      "cell_type": "code",
      "execution_count": 17,
      "metadata": {},
      "outputs": [],
      "source": [
        "# Carregando os dados da tabela 'ratings'\n",
        "df_ratings = pd.read_csv(r'C:\\Users\\PLAY\\Desktop\\FESA\\EC6\\ELETIVA II (AMBIENTES INTELIGENTES)\\N1 - Tainara do Nascimento Casimiro/movielens-exploratory-analysis/ml-latest-small/ratings.csv')"
      ]
    },
    {
      "cell_type": "code",
      "execution_count": 18,
      "metadata": {},
      "outputs": [],
      "source": [
        "# Renomeando colunas\n",
        "df_ratings.rename(columns={'userId': 'ID usuario', 'movieId': 'ID filme', 'rating': 'Nota', 'timestamp': 'Data e hora da avaliacao'}, inplace=True)"
      ]
    },
    {
      "cell_type": "code",
      "execution_count": 19,
      "metadata": {},
      "outputs": [],
      "source": [
        "# Convertendo timestamps para formato de data e hora\n",
        "df_ratings['Data e hora da avaliacao'] = pd.to_datetime(df_ratings['Data e hora da avaliacao'], unit='s')"
      ]
    },
    {
      "cell_type": "code",
      "execution_count": 20,
      "metadata": {},
      "outputs": [
        {
          "name": "stdout",
          "output_type": "stream",
          "text": [
            "   ID usuario  ID filme  Nota Data e hora da avaliacao\n",
            "0           1         1   4.0      2000-07-30 18:45:03\n",
            "1           1         3   4.0      2000-07-30 18:20:47\n",
            "2           1         6   4.0      2000-07-30 18:37:04\n",
            "3           1        47   5.0      2000-07-30 19:03:35\n",
            "4           1        50   5.0      2000-07-30 18:48:51\n"
          ]
        }
      ],
      "source": [
        "# Exibindo as primeiras linhas do dataset\n",
        "print(df_ratings.head())"
      ]
    },
    {
      "cell_type": "code",
      "execution_count": 21,
      "metadata": {},
      "outputs": [
        {
          "name": "stdout",
          "output_type": "stream",
          "text": [
            "O dataset possui 100836 exemplos/amostras/linhas e 4 atributos/variáveis/colunas.\n"
          ]
        }
      ],
      "source": [
        "# Exibindo a quantidade de linhas e colunas do dataset\n",
        "print(f'O dataset possui {df_ratings.shape[0]} exemplos/amostras/linhas e {df_ratings.shape[1]} atributos/variáveis/colunas.')"
      ]
    },
    {
      "cell_type": "code",
      "execution_count": 22,
      "metadata": {},
      "outputs": [
        {
          "name": "stdout",
          "output_type": "stream",
          "text": [
            "<class 'pandas.core.frame.DataFrame'>\n",
            "RangeIndex: 100836 entries, 0 to 100835\n",
            "Data columns (total 4 columns):\n",
            " #   Column                    Non-Null Count   Dtype         \n",
            "---  ------                    --------------   -----         \n",
            " 0   ID usuario                100836 non-null  int64         \n",
            " 1   ID filme                  100836 non-null  int64         \n",
            " 2   Nota                      100836 non-null  float64       \n",
            " 3   Data e hora da avaliacao  100836 non-null  datetime64[ns]\n",
            "dtypes: datetime64[ns](1), float64(1), int64(2)\n",
            "memory usage: 3.1 MB\n"
          ]
        }
      ],
      "source": [
        "# Exibindo informações gerais do dataset\n",
        "df_ratings.info()"
      ]
    },
    {
      "cell_type": "code",
      "execution_count": 23,
      "metadata": {},
      "outputs": [
        {
          "data": {
            "application/vnd.microsoft.datawrangler.viewer.v0+json": {
              "columns": [
                {
                  "name": "index",
                  "rawType": "object",
                  "type": "string"
                },
                {
                  "name": "ID usuario",
                  "rawType": "float64",
                  "type": "float"
                },
                {
                  "name": "ID filme",
                  "rawType": "float64",
                  "type": "float"
                },
                {
                  "name": "Nota",
                  "rawType": "float64",
                  "type": "float"
                },
                {
                  "name": "Data e hora da avaliacao",
                  "rawType": "object",
                  "type": "unknown"
                }
              ],
              "conversionMethod": "pd.DataFrame",
              "ref": "f1e0993a-f140-4bdb-9a56-ff4c80c7caac",
              "rows": [
                [
                  "count",
                  "100836.0",
                  "100836.0",
                  "100836.0",
                  "100836"
                ],
                [
                  "mean",
                  "326.12756356856676",
                  "19435.2957177992",
                  "3.501556983616962",
                  "2008-03-19 17:01:27.368469248"
                ],
                [
                  "min",
                  "1.0",
                  "1.0",
                  "0.5",
                  "1996-03-29 18:36:55"
                ],
                [
                  "25%",
                  "177.0",
                  "1199.0",
                  "3.0",
                  "2002-04-18 09:57:46"
                ],
                [
                  "50%",
                  "325.0",
                  "2991.0",
                  "3.5",
                  "2007-08-02 20:31:02"
                ],
                [
                  "75%",
                  "477.0",
                  "8122.0",
                  "4.0",
                  "2015-07-04 07:15:44.500000"
                ],
                [
                  "max",
                  "610.0",
                  "193609.0",
                  "5.0",
                  "2018-09-24 14:27:30"
                ],
                [
                  "std",
                  "182.61849146349994",
                  "35530.98719870018",
                  "1.042529239060635",
                  null
                ]
              ],
              "shape": {
                "columns": 4,
                "rows": 8
              }
            },
            "text/html": [
              "<div>\n",
              "<style scoped>\n",
              "    .dataframe tbody tr th:only-of-type {\n",
              "        vertical-align: middle;\n",
              "    }\n",
              "\n",
              "    .dataframe tbody tr th {\n",
              "        vertical-align: top;\n",
              "    }\n",
              "\n",
              "    .dataframe thead th {\n",
              "        text-align: right;\n",
              "    }\n",
              "</style>\n",
              "<table border=\"1\" class=\"dataframe\">\n",
              "  <thead>\n",
              "    <tr style=\"text-align: right;\">\n",
              "      <th></th>\n",
              "      <th>ID usuario</th>\n",
              "      <th>ID filme</th>\n",
              "      <th>Nota</th>\n",
              "      <th>Data e hora da avaliacao</th>\n",
              "    </tr>\n",
              "  </thead>\n",
              "  <tbody>\n",
              "    <tr>\n",
              "      <th>count</th>\n",
              "      <td>100836.000000</td>\n",
              "      <td>100836.000000</td>\n",
              "      <td>100836.000000</td>\n",
              "      <td>100836</td>\n",
              "    </tr>\n",
              "    <tr>\n",
              "      <th>mean</th>\n",
              "      <td>326.127564</td>\n",
              "      <td>19435.295718</td>\n",
              "      <td>3.501557</td>\n",
              "      <td>2008-03-19 17:01:27.368469248</td>\n",
              "    </tr>\n",
              "    <tr>\n",
              "      <th>min</th>\n",
              "      <td>1.000000</td>\n",
              "      <td>1.000000</td>\n",
              "      <td>0.500000</td>\n",
              "      <td>1996-03-29 18:36:55</td>\n",
              "    </tr>\n",
              "    <tr>\n",
              "      <th>25%</th>\n",
              "      <td>177.000000</td>\n",
              "      <td>1199.000000</td>\n",
              "      <td>3.000000</td>\n",
              "      <td>2002-04-18 09:57:46</td>\n",
              "    </tr>\n",
              "    <tr>\n",
              "      <th>50%</th>\n",
              "      <td>325.000000</td>\n",
              "      <td>2991.000000</td>\n",
              "      <td>3.500000</td>\n",
              "      <td>2007-08-02 20:31:02</td>\n",
              "    </tr>\n",
              "    <tr>\n",
              "      <th>75%</th>\n",
              "      <td>477.000000</td>\n",
              "      <td>8122.000000</td>\n",
              "      <td>4.000000</td>\n",
              "      <td>2015-07-04 07:15:44.500000</td>\n",
              "    </tr>\n",
              "    <tr>\n",
              "      <th>max</th>\n",
              "      <td>610.000000</td>\n",
              "      <td>193609.000000</td>\n",
              "      <td>5.000000</td>\n",
              "      <td>2018-09-24 14:27:30</td>\n",
              "    </tr>\n",
              "    <tr>\n",
              "      <th>std</th>\n",
              "      <td>182.618491</td>\n",
              "      <td>35530.987199</td>\n",
              "      <td>1.042529</td>\n",
              "      <td>NaN</td>\n",
              "    </tr>\n",
              "  </tbody>\n",
              "</table>\n",
              "</div>"
            ],
            "text/plain": [
              "          ID usuario       ID filme           Nota  \\\n",
              "count  100836.000000  100836.000000  100836.000000   \n",
              "mean      326.127564   19435.295718       3.501557   \n",
              "min         1.000000       1.000000       0.500000   \n",
              "25%       177.000000    1199.000000       3.000000   \n",
              "50%       325.000000    2991.000000       3.500000   \n",
              "75%       477.000000    8122.000000       4.000000   \n",
              "max       610.000000  193609.000000       5.000000   \n",
              "std       182.618491   35530.987199       1.042529   \n",
              "\n",
              "            Data e hora da avaliacao  \n",
              "count                         100836  \n",
              "mean   2008-03-19 17:01:27.368469248  \n",
              "min              1996-03-29 18:36:55  \n",
              "25%              2002-04-18 09:57:46  \n",
              "50%              2007-08-02 20:31:02  \n",
              "75%       2015-07-04 07:15:44.500000  \n",
              "max              2018-09-24 14:27:30  \n",
              "std                              NaN  "
            ]
          },
          "execution_count": 23,
          "metadata": {},
          "output_type": "execute_result"
        }
      ],
      "source": [
        "# Exibindo estatísticas descritivas do dataset\n",
        "df_ratings.describe()"
      ]
    },
    {
      "cell_type": "markdown",
      "metadata": {},
      "source": [
        "### Tags"
      ]
    },
    {
      "cell_type": "code",
      "execution_count": 24,
      "metadata": {},
      "outputs": [],
      "source": [
        "# Carregando os dados da tabela 'tags'\n",
        "df_tags = pd.read_csv(r'C:\\Users\\PLAY\\Desktop\\FESA\\EC6\\ELETIVA II (AMBIENTES INTELIGENTES)\\N1 - Tainara do Nascimento Casimiro/movielens-exploratory-analysis/ml-latest-small/tags.csv')\n"
      ]
    },
    {
      "cell_type": "code",
      "execution_count": 25,
      "metadata": {},
      "outputs": [],
      "source": [
        "# Renomeando colunas\n",
        "df_tags.rename(columns={'userId': 'ID usuario', 'movieId': 'ID filme', 'tag': 'Tag', 'timestamp': 'Data e hora da atribuicao'}, inplace=True)"
      ]
    },
    {
      "cell_type": "code",
      "execution_count": 26,
      "metadata": {},
      "outputs": [],
      "source": [
        "# Convertendo os valores da coluna 'Tag' para maiúsculas\n",
        "df_tags['Tag'] = df_tags['Tag'].str.upper()"
      ]
    },
    {
      "cell_type": "code",
      "execution_count": 27,
      "metadata": {},
      "outputs": [],
      "source": [
        "# Convertendo timestamps para formato de data e hora\n",
        "df_tags['Data e hora da atribuicao'] = pd.to_datetime(df_tags['Data e hora da atribuicao'], unit='s')"
      ]
    },
    {
      "cell_type": "code",
      "execution_count": 28,
      "metadata": {},
      "outputs": [
        {
          "name": "stdout",
          "output_type": "stream",
          "text": [
            "   ID usuario  ID filme              Tag Data e hora da atribuicao\n",
            "0           2     60756            FUNNY       2015-10-24 19:29:54\n",
            "1           2     60756  HIGHLY QUOTABLE       2015-10-24 19:29:56\n",
            "2           2     60756     WILL FERRELL       2015-10-24 19:29:52\n",
            "3           2     89774     BOXING STORY       2015-10-24 19:33:27\n",
            "4           2     89774              MMA       2015-10-24 19:33:20\n"
          ]
        }
      ],
      "source": [
        "# Exibindo as primeiras linhas do dataset\n",
        "print(df_tags.head())"
      ]
    },
    {
      "cell_type": "code",
      "execution_count": 29,
      "metadata": {},
      "outputs": [
        {
          "name": "stdout",
          "output_type": "stream",
          "text": [
            "O dataset possui 3683 exemplos/amostras/linhas e 4 atributos/variáveis/colunas.\n"
          ]
        }
      ],
      "source": [
        "# Exibindo a quantidade de linhas e colunas do dataset\n",
        "print(f'O dataset possui {df_tags.shape[0]} exemplos/amostras/linhas e {df_tags.shape[1]} atributos/variáveis/colunas.')"
      ]
    },
    {
      "cell_type": "code",
      "execution_count": 30,
      "metadata": {},
      "outputs": [
        {
          "name": "stdout",
          "output_type": "stream",
          "text": [
            "<class 'pandas.core.frame.DataFrame'>\n",
            "RangeIndex: 3683 entries, 0 to 3682\n",
            "Data columns (total 4 columns):\n",
            " #   Column                     Non-Null Count  Dtype         \n",
            "---  ------                     --------------  -----         \n",
            " 0   ID usuario                 3683 non-null   int64         \n",
            " 1   ID filme                   3683 non-null   int64         \n",
            " 2   Tag                        3683 non-null   object        \n",
            " 3   Data e hora da atribuicao  3683 non-null   datetime64[ns]\n",
            "dtypes: datetime64[ns](1), int64(2), object(1)\n",
            "memory usage: 115.2+ KB\n"
          ]
        }
      ],
      "source": [
        "# Exibindo informações gerais do dataset\n",
        "df_tags.info()"
      ]
    },
    {
      "cell_type": "code",
      "execution_count": 31,
      "metadata": {},
      "outputs": [
        {
          "data": {
            "application/vnd.microsoft.datawrangler.viewer.v0+json": {
              "columns": [
                {
                  "name": "index",
                  "rawType": "object",
                  "type": "string"
                },
                {
                  "name": "ID usuario",
                  "rawType": "float64",
                  "type": "float"
                },
                {
                  "name": "ID filme",
                  "rawType": "float64",
                  "type": "float"
                },
                {
                  "name": "Data e hora da atribuicao",
                  "rawType": "object",
                  "type": "unknown"
                }
              ],
              "conversionMethod": "pd.DataFrame",
              "ref": "b85bd547-61e2-4941-88db-ad942d66b385",
              "rows": [
                [
                  "count",
                  "3683.0",
                  "3683.0",
                  "3683"
                ],
                [
                  "mean",
                  "431.1493347814282",
                  "27252.01357588922",
                  "2011-10-31 03:32:46.823784960"
                ],
                [
                  "min",
                  "2.0",
                  "1.0",
                  "2006-01-13 19:09:12"
                ],
                [
                  "25%",
                  "424.0",
                  "1262.5",
                  "2006-01-17 18:06:56"
                ],
                [
                  "50%",
                  "474.0",
                  "4454.0",
                  "2010-03-29 03:16:04"
                ],
                [
                  "75%",
                  "477.0",
                  "39263.0",
                  "2017-06-26 05:59:25.500000"
                ],
                [
                  "max",
                  "610.0",
                  "193565.0",
                  "2018-09-16 11:50:03"
                ],
                [
                  "std",
                  "158.47255348483486",
                  "43490.55880276778",
                  null
                ]
              ],
              "shape": {
                "columns": 3,
                "rows": 8
              }
            },
            "text/html": [
              "<div>\n",
              "<style scoped>\n",
              "    .dataframe tbody tr th:only-of-type {\n",
              "        vertical-align: middle;\n",
              "    }\n",
              "\n",
              "    .dataframe tbody tr th {\n",
              "        vertical-align: top;\n",
              "    }\n",
              "\n",
              "    .dataframe thead th {\n",
              "        text-align: right;\n",
              "    }\n",
              "</style>\n",
              "<table border=\"1\" class=\"dataframe\">\n",
              "  <thead>\n",
              "    <tr style=\"text-align: right;\">\n",
              "      <th></th>\n",
              "      <th>ID usuario</th>\n",
              "      <th>ID filme</th>\n",
              "      <th>Data e hora da atribuicao</th>\n",
              "    </tr>\n",
              "  </thead>\n",
              "  <tbody>\n",
              "    <tr>\n",
              "      <th>count</th>\n",
              "      <td>3683.000000</td>\n",
              "      <td>3683.000000</td>\n",
              "      <td>3683</td>\n",
              "    </tr>\n",
              "    <tr>\n",
              "      <th>mean</th>\n",
              "      <td>431.149335</td>\n",
              "      <td>27252.013576</td>\n",
              "      <td>2011-10-31 03:32:46.823784960</td>\n",
              "    </tr>\n",
              "    <tr>\n",
              "      <th>min</th>\n",
              "      <td>2.000000</td>\n",
              "      <td>1.000000</td>\n",
              "      <td>2006-01-13 19:09:12</td>\n",
              "    </tr>\n",
              "    <tr>\n",
              "      <th>25%</th>\n",
              "      <td>424.000000</td>\n",
              "      <td>1262.500000</td>\n",
              "      <td>2006-01-17 18:06:56</td>\n",
              "    </tr>\n",
              "    <tr>\n",
              "      <th>50%</th>\n",
              "      <td>474.000000</td>\n",
              "      <td>4454.000000</td>\n",
              "      <td>2010-03-29 03:16:04</td>\n",
              "    </tr>\n",
              "    <tr>\n",
              "      <th>75%</th>\n",
              "      <td>477.000000</td>\n",
              "      <td>39263.000000</td>\n",
              "      <td>2017-06-26 05:59:25.500000</td>\n",
              "    </tr>\n",
              "    <tr>\n",
              "      <th>max</th>\n",
              "      <td>610.000000</td>\n",
              "      <td>193565.000000</td>\n",
              "      <td>2018-09-16 11:50:03</td>\n",
              "    </tr>\n",
              "    <tr>\n",
              "      <th>std</th>\n",
              "      <td>158.472553</td>\n",
              "      <td>43490.558803</td>\n",
              "      <td>NaN</td>\n",
              "    </tr>\n",
              "  </tbody>\n",
              "</table>\n",
              "</div>"
            ],
            "text/plain": [
              "        ID usuario       ID filme      Data e hora da atribuicao\n",
              "count  3683.000000    3683.000000                           3683\n",
              "mean    431.149335   27252.013576  2011-10-31 03:32:46.823784960\n",
              "min       2.000000       1.000000            2006-01-13 19:09:12\n",
              "25%     424.000000    1262.500000            2006-01-17 18:06:56\n",
              "50%     474.000000    4454.000000            2010-03-29 03:16:04\n",
              "75%     477.000000   39263.000000     2017-06-26 05:59:25.500000\n",
              "max     610.000000  193565.000000            2018-09-16 11:50:03\n",
              "std     158.472553   43490.558803                            NaN"
            ]
          },
          "execution_count": 31,
          "metadata": {},
          "output_type": "execute_result"
        }
      ],
      "source": [
        "# Exibindo estatísticas descritivas do dataset\n",
        "df_tags.describe()"
      ]
    },
    {
      "cell_type": "markdown",
      "metadata": {},
      "source": [
        "### Exibindo estatísticas descritivas de todos os datasets"
      ]
    },
    {
      "cell_type": "code",
      "execution_count": 32,
      "metadata": {},
      "outputs": [
        {
          "name": "stdout",
          "output_type": "stream",
          "text": [
            "            ID filme\n",
            "count    9742.000000\n",
            "mean    42200.353623\n",
            "std     52160.494854\n",
            "min         1.000000\n",
            "25%      3248.250000\n",
            "50%      7300.000000\n",
            "75%     76232.000000\n",
            "max    193609.000000\n",
            "          ID usuario       ID filme           Nota  \\\n",
            "count  100836.000000  100836.000000  100836.000000   \n",
            "mean      326.127564   19435.295718       3.501557   \n",
            "min         1.000000       1.000000       0.500000   \n",
            "25%       177.000000    1199.000000       3.000000   \n",
            "50%       325.000000    2991.000000       3.500000   \n",
            "75%       477.000000    8122.000000       4.000000   \n",
            "max       610.000000  193609.000000       5.000000   \n",
            "std       182.618491   35530.987199       1.042529   \n",
            "\n",
            "            Data e hora da avaliacao  \n",
            "count                         100836  \n",
            "mean   2008-03-19 17:01:27.368469248  \n",
            "min              1996-03-29 18:36:55  \n",
            "25%              2002-04-18 09:57:46  \n",
            "50%              2007-08-02 20:31:02  \n",
            "75%       2015-07-04 07:15:44.500000  \n",
            "max              2018-09-24 14:27:30  \n",
            "std                              NaN  \n",
            "        ID usuario       ID filme      Data e hora da atribuicao\n",
            "count  3683.000000    3683.000000                           3683\n",
            "mean    431.149335   27252.013576  2011-10-31 03:32:46.823784960\n",
            "min       2.000000       1.000000            2006-01-13 19:09:12\n",
            "25%     424.000000    1262.500000            2006-01-17 18:06:56\n",
            "50%     474.000000    4454.000000            2010-03-29 03:16:04\n",
            "75%     477.000000   39263.000000     2017-06-26 05:59:25.500000\n",
            "max     610.000000  193565.000000            2018-09-16 11:50:03\n",
            "std     158.472553   43490.558803                            NaN\n",
            "            ID filme       ID IMDB        ID TMDB\n",
            "count    9742.000000  9.742000e+03    9742.000000\n",
            "mean    42200.353623  6.771839e+05   55116.825395\n",
            "std     52160.494854  1.107228e+06   93628.351521\n",
            "min         1.000000  4.170000e+02       0.000000\n",
            "25%      3248.250000  9.518075e+04    9656.750000\n",
            "50%      7300.000000  1.672605e+05   16497.500000\n",
            "75%     76232.000000  8.055685e+05   44147.750000\n",
            "max    193609.000000  8.391976e+06  525662.000000\n"
          ]
        }
      ],
      "source": [
        "print(df_movies.describe())\n",
        "print(df_ratings.describe())\n",
        "print(df_tags.describe())\n",
        "print(df_links.describe())"
      ]
    }
  ],
  "metadata": {
    "colab": {
      "provenance": []
    },
    "kernelspec": {
      "display_name": "Python 3",
      "language": "python",
      "name": "python3"
    },
    "language_info": {
      "codemirror_mode": {
        "name": "ipython",
        "version": 3
      },
      "file_extension": ".py",
      "mimetype": "text/x-python",
      "name": "python",
      "nbconvert_exporter": "python",
      "pygments_lexer": "ipython3",
      "version": "3.11.5"
    }
  },
  "nbformat": 4,
  "nbformat_minor": 0
}
